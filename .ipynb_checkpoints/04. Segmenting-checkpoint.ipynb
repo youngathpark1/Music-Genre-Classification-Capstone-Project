{
 "cells": [
  {
   "cell_type": "markdown",
   "metadata": {},
   "source": [
    "## Segmenting audio samples\n",
    "\n",
    "In order to effectively train a deep learning model, it turns out 1000 genre samples are not enough data points. To solve this issue, I segmented each 30 sec music audio sample into 10 separate, 3 sec samples. By doing so, I am in essence blowing up my genre samples from 1000 to 10,000."
   ]
  },
  {
   "cell_type": "code",
   "execution_count": 8,
   "metadata": {},
   "outputs": [],
   "source": [
    "# Imports\n",
    "\n",
    "from glob import glob\n",
    "from pydub import AudioSegment\n",
    "from pydub.utils import make_chunks"
   ]
  },
  {
   "cell_type": "code",
   "execution_count": 4,
   "metadata": {},
   "outputs": [],
   "source": [
    "## Function that loops through each genre folder and then compiles all the audio file names\n",
    "\n",
    "def compile_audio_files(genre_list):\n",
    "    \n",
    "    compiled_list = []\n",
    "    \n",
    "    for genre in genre_list:\n",
    "        audio_data_dir = f'./genres/{genre}/'\n",
    "        audio_files = glob(audio_data_dir + '*.wav')\n",
    "        compiled_list += audio_files\n",
    "        \n",
    "    return compiled_list"
   ]
  },
  {
   "cell_type": "code",
   "execution_count": 6,
   "metadata": {},
   "outputs": [
    {
     "data": {
      "text/plain": [
       "['./genres/blues/blues.00093.wav',\n",
       " './genres/blues/blues.00087.wav',\n",
       " './genres/blues/blues.00050.wav',\n",
       " './genres/blues/blues.00044.wav',\n",
       " './genres/blues/blues.00078.wav',\n",
       " './genres/blues/blues.00079.wav',\n",
       " './genres/blues/blues.00045.wav',\n",
       " './genres/blues/blues.00051.wav',\n",
       " './genres/blues/blues.00086.wav',\n",
       " './genres/blues/blues.00092.wav',\n",
       " './genres/blues/blues.00084.wav',\n",
       " './genres/blues/blues.00090.wav',\n",
       " './genres/blues/blues.00047.wav',\n",
       " './genres/blues/blues.00053.wav',\n",
       " './genres/blues/blues.00052.wav',\n",
       " './genres/blues/blues.00046.wav',\n",
       " './genres/blues/blues.00091.wav',\n",
       " './genres/blues/blues.00085.wav',\n",
       " './genres/blues/blues.00081.wav',\n",
       " './genres/blues/blues.00095.wav']"
      ]
     },
     "execution_count": 6,
     "metadata": {},
     "output_type": "execute_result"
    }
   ],
   "source": [
    "# Loop through audio files in each genre and add the audio file name to the list\n",
    "\n",
    "genres = ['blues', 'classical', 'country', 'disco', 'hiphop', 'jazz', 'metal', 'pop', 'reggae', 'rock']\n",
    "\n",
    "final_list = compile_audio_files(genres)\n",
    "\n",
    "final_list[:20] # Showing the first 20 to save space"
   ]
  },
  {
   "cell_type": "code",
   "execution_count": 15,
   "metadata": {},
   "outputs": [],
   "source": [
    "# Function that loops through each audio sample, splices into 10 chunks, each 3 seconds, then exports.\n",
    "# All credit to author of this solution on StackOverflow, Anil_M. - https://stackoverflow.com/questions/36799902/how-to-splice-an-audio-file-wav-format-into-1-sec-splices-in-python\n",
    "\n",
    "def split_audio(files):\n",
    "    for file in files:\n",
    "        myaudio = AudioSegment.from_wav(file) # read the file\n",
    "        chunk_length_ms = 3000 # chunk size in milliseconds\n",
    "        chunks = make_chunks(myaudio, chunk_length_ms)[0:10] # due to rounding, very last chunk needs to be dropped\n",
    "        \n",
    "        for i, chunk in enumerate(chunks):\n",
    "            chunk_name =file.split('/')[3]+'_'+'chunk{0}.wav'.format(i) # naming the export\n",
    "            chunk.export(chunk_name, format='wav') # exporting sliced samples"
   ]
  },
  {
   "cell_type": "code",
   "execution_count": 17,
   "metadata": {},
   "outputs": [],
   "source": [
    "split_audio(final_list)"
   ]
  }
 ],
 "metadata": {
  "kernelspec": {
   "display_name": "Python 3",
   "language": "python",
   "name": "python3"
  },
  "language_info": {
   "codemirror_mode": {
    "name": "ipython",
    "version": 3
   },
   "file_extension": ".py",
   "mimetype": "text/x-python",
   "name": "python",
   "nbconvert_exporter": "python",
   "pygments_lexer": "ipython3",
   "version": "3.8.2"
  }
 },
 "nbformat": 4,
 "nbformat_minor": 4
}
