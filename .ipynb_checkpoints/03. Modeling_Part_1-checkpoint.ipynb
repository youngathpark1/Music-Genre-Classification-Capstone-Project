{
 "cells": [
  {
   "cell_type": "markdown",
   "metadata": {
    "id": "6JdxGKhiYzWZ"
   },
   "source": [
    "# Imports & Preprocessing"
   ]
  },
  {
   "cell_type": "code",
   "execution_count": null,
   "metadata": {
    "id": "080UvGibCOg0"
   },
   "outputs": [],
   "source": [
    "# Imports\n",
    "\n",
    "import numpy as np\n",
    "import pandas as pd\n",
    "\n",
    "from sklearn.model_selection import train_test_split, GridSearchCV\n",
    "from sklearn.preprocessing import StandardScaler\n",
    "from sklearn.pipeline import Pipeline\n",
    "\n",
    "from sklearn.linear_model import LogisticRegression\n",
    "from sklearn.neighbors import KNeighborsClassifier\n",
    "from sklearn.ensemble import BaggingClassifier, RandomForestClassifier, AdaBoostClassifier, GradientBoostingClassifier\n",
    "from sklearn.svm import SVC\n",
    "from xgboost import XGBClassifier"
   ]
  },
  {
   "cell_type": "code",
   "execution_count": null,
   "metadata": {
    "colab": {
     "base_uri": "https://localhost:8080/"
    },
    "id": "13PQr1iKCUwC",
    "outputId": "3c1180a4-a547-457c-9201-7c55a9986ec0"
   },
   "outputs": [
    {
     "name": "stdout",
     "output_type": "stream",
     "text": [
      "Mounted at /content/gdrive\n"
     ]
    }
   ],
   "source": [
    "# Read in the data\n",
    "\n",
    "from google.colab import drive \n",
    "drive.mount('/content/gdrive')"
   ]
  },
  {
   "cell_type": "code",
   "execution_count": null,
   "metadata": {
    "colab": {
     "base_uri": "https://localhost:8080/",
     "height": 211
    },
    "id": "3w23ls_OCWdJ",
    "outputId": "4832630f-66e9-495b-9900-82e85945f239"
   },
   "outputs": [
    {
     "data": {
      "text/html": [
       "<div>\n",
       "<style scoped>\n",
       "    .dataframe tbody tr th:only-of-type {\n",
       "        vertical-align: middle;\n",
       "    }\n",
       "\n",
       "    .dataframe tbody tr th {\n",
       "        vertical-align: top;\n",
       "    }\n",
       "\n",
       "    .dataframe thead th {\n",
       "        text-align: right;\n",
       "    }\n",
       "</style>\n",
       "<table border=\"1\" class=\"dataframe\">\n",
       "  <thead>\n",
       "    <tr style=\"text-align: right;\">\n",
       "      <th></th>\n",
       "      <th>tempo</th>\n",
       "      <th>chroma_mean_0</th>\n",
       "      <th>chroma_mean_1</th>\n",
       "      <th>chroma_mean_2</th>\n",
       "      <th>chroma_mean_3</th>\n",
       "      <th>chroma_mean_4</th>\n",
       "      <th>chroma_mean_5</th>\n",
       "      <th>chroma_mean_6</th>\n",
       "      <th>chroma_mean_7</th>\n",
       "      <th>chroma_mean_8</th>\n",
       "      <th>chroma_mean_9</th>\n",
       "      <th>chroma_mean_10</th>\n",
       "      <th>chroma_mean_11</th>\n",
       "      <th>chroma_std_0</th>\n",
       "      <th>chroma_std_1</th>\n",
       "      <th>chroma_std_2</th>\n",
       "      <th>chroma_std_3</th>\n",
       "      <th>chroma_std_4</th>\n",
       "      <th>chroma_std_5</th>\n",
       "      <th>chroma_std_6</th>\n",
       "      <th>chroma_std_7</th>\n",
       "      <th>chroma_std_8</th>\n",
       "      <th>chroma_std_9</th>\n",
       "      <th>chroma_std_10</th>\n",
       "      <th>chroma_std_11</th>\n",
       "      <th>mfccs_mean_0</th>\n",
       "      <th>mfccs_mean_1</th>\n",
       "      <th>mfccs_mean_2</th>\n",
       "      <th>mfccs_mean_3</th>\n",
       "      <th>mfccs_mean_4</th>\n",
       "      <th>mfccs_mean_5</th>\n",
       "      <th>mfccs_mean_6</th>\n",
       "      <th>mfccs_mean_7</th>\n",
       "      <th>mfccs_mean_8</th>\n",
       "      <th>mfccs_mean_9</th>\n",
       "      <th>mfccs_mean_10</th>\n",
       "      <th>mfccs_mean_11</th>\n",
       "      <th>mfccs_mean_12</th>\n",
       "      <th>mfccs_std_0</th>\n",
       "      <th>mfccs_std_1</th>\n",
       "      <th>mfccs_std_2</th>\n",
       "      <th>mfccs_std_3</th>\n",
       "      <th>mfccs_std_4</th>\n",
       "      <th>mfccs_std_5</th>\n",
       "      <th>mfccs_std_6</th>\n",
       "      <th>mfccs_std_7</th>\n",
       "      <th>mfccs_std_8</th>\n",
       "      <th>mfccs_std_9</th>\n",
       "      <th>mfccs_std_10</th>\n",
       "      <th>mfccs_std_11</th>\n",
       "      <th>mfccs_std_12</th>\n",
       "      <th>s_centroid_mean</th>\n",
       "      <th>s_centroid_std</th>\n",
       "      <th>s_centroid_skew</th>\n",
       "      <th>s_contrast_mean</th>\n",
       "      <th>s_contrast_std</th>\n",
       "      <th>s_rolloff_mean</th>\n",
       "      <th>s_rolloff_std</th>\n",
       "      <th>s_rolloff_skew</th>\n",
       "      <th>z_cr_mean</th>\n",
       "      <th>z_cr_std</th>\n",
       "      <th>z_cr_skew</th>\n",
       "      <th>file_name</th>\n",
       "      <th>genre</th>\n",
       "      <th>genre_num</th>\n",
       "    </tr>\n",
       "  </thead>\n",
       "  <tbody>\n",
       "    <tr>\n",
       "      <th>0</th>\n",
       "      <td>143.554688</td>\n",
       "      <td>0.063791</td>\n",
       "      <td>0.055564</td>\n",
       "      <td>0.056327</td>\n",
       "      <td>0.118907</td>\n",
       "      <td>0.424171</td>\n",
       "      <td>0.034112</td>\n",
       "      <td>0.212849</td>\n",
       "      <td>0.030054</td>\n",
       "      <td>0.149530</td>\n",
       "      <td>0.356212</td>\n",
       "      <td>0.130161</td>\n",
       "      <td>0.522238</td>\n",
       "      <td>0.071244</td>\n",
       "      <td>0.074615</td>\n",
       "      <td>0.110890</td>\n",
       "      <td>0.135843</td>\n",
       "      <td>0.270276</td>\n",
       "      <td>0.065958</td>\n",
       "      <td>0.194343</td>\n",
       "      <td>0.070226</td>\n",
       "      <td>0.186477</td>\n",
       "      <td>0.266534</td>\n",
       "      <td>0.106936</td>\n",
       "      <td>0.174858</td>\n",
       "      <td>-394.328705</td>\n",
       "      <td>166.156586</td>\n",
       "      <td>43.898552</td>\n",
       "      <td>15.664388</td>\n",
       "      <td>28.838474</td>\n",
       "      <td>20.928083</td>\n",
       "      <td>9.715878</td>\n",
       "      <td>9.186152</td>\n",
       "      <td>6.511034</td>\n",
       "      <td>3.470351</td>\n",
       "      <td>4.836164</td>\n",
       "      <td>1.935910</td>\n",
       "      <td>-5.996245</td>\n",
       "      <td>36.494087</td>\n",
       "      <td>22.914303</td>\n",
       "      <td>18.115417</td>\n",
       "      <td>17.851181</td>\n",
       "      <td>13.969259</td>\n",
       "      <td>8.160965</td>\n",
       "      <td>5.794830</td>\n",
       "      <td>5.308060</td>\n",
       "      <td>6.149189</td>\n",
       "      <td>5.648621</td>\n",
       "      <td>6.795414</td>\n",
       "      <td>7.005924</td>\n",
       "      <td>6.093315</td>\n",
       "      <td>570.040355</td>\n",
       "      <td>323.613897</td>\n",
       "      <td>7.418132</td>\n",
       "      <td>25.451396</td>\n",
       "      <td>6.383092</td>\n",
       "      <td>927.651390</td>\n",
       "      <td>705.168708</td>\n",
       "      <td>6.217031</td>\n",
       "      <td>0.020159</td>\n",
       "      <td>0.009883</td>\n",
       "      <td>1.431762</td>\n",
       "      <td>./genres/blues/blues.00093.wav</td>\n",
       "      <td>blues</td>\n",
       "      <td>0</td>\n",
       "    </tr>\n",
       "    <tr>\n",
       "      <th>1</th>\n",
       "      <td>172.265625</td>\n",
       "      <td>0.277434</td>\n",
       "      <td>0.431968</td>\n",
       "      <td>0.155263</td>\n",
       "      <td>0.188732</td>\n",
       "      <td>0.169002</td>\n",
       "      <td>0.248704</td>\n",
       "      <td>0.249446</td>\n",
       "      <td>0.108724</td>\n",
       "      <td>0.223708</td>\n",
       "      <td>0.193240</td>\n",
       "      <td>0.191946</td>\n",
       "      <td>0.146581</td>\n",
       "      <td>0.179196</td>\n",
       "      <td>0.198589</td>\n",
       "      <td>0.111114</td>\n",
       "      <td>0.194426</td>\n",
       "      <td>0.147251</td>\n",
       "      <td>0.176045</td>\n",
       "      <td>0.230250</td>\n",
       "      <td>0.094113</td>\n",
       "      <td>0.186321</td>\n",
       "      <td>0.170270</td>\n",
       "      <td>0.185137</td>\n",
       "      <td>0.179739</td>\n",
       "      <td>-227.054962</td>\n",
       "      <td>134.629089</td>\n",
       "      <td>6.695702</td>\n",
       "      <td>46.101398</td>\n",
       "      <td>6.171240</td>\n",
       "      <td>22.393486</td>\n",
       "      <td>-5.879264</td>\n",
       "      <td>12.979284</td>\n",
       "      <td>-8.445383</td>\n",
       "      <td>-2.166529</td>\n",
       "      <td>-3.846836</td>\n",
       "      <td>-4.435575</td>\n",
       "      <td>-5.392314</td>\n",
       "      <td>38.662277</td>\n",
       "      <td>17.834276</td>\n",
       "      <td>18.138062</td>\n",
       "      <td>14.168202</td>\n",
       "      <td>13.578545</td>\n",
       "      <td>9.972074</td>\n",
       "      <td>12.625150</td>\n",
       "      <td>9.856524</td>\n",
       "      <td>11.032054</td>\n",
       "      <td>8.851321</td>\n",
       "      <td>8.251815</td>\n",
       "      <td>8.815800</td>\n",
       "      <td>7.448246</td>\n",
       "      <td>1441.899257</td>\n",
       "      <td>622.389586</td>\n",
       "      <td>1.762272</td>\n",
       "      <td>25.989774</td>\n",
       "      <td>7.397029</td>\n",
       "      <td>3082.803607</td>\n",
       "      <td>1481.811552</td>\n",
       "      <td>0.651857</td>\n",
       "      <td>0.033655</td>\n",
       "      <td>0.019449</td>\n",
       "      <td>1.866563</td>\n",
       "      <td>./genres/blues/blues.00087.wav</td>\n",
       "      <td>blues</td>\n",
       "      <td>0</td>\n",
       "    </tr>\n",
       "    <tr>\n",
       "      <th>2</th>\n",
       "      <td>135.999178</td>\n",
       "      <td>0.226694</td>\n",
       "      <td>0.213731</td>\n",
       "      <td>0.228384</td>\n",
       "      <td>0.270766</td>\n",
       "      <td>0.344654</td>\n",
       "      <td>0.239348</td>\n",
       "      <td>0.308713</td>\n",
       "      <td>0.158992</td>\n",
       "      <td>0.168484</td>\n",
       "      <td>0.195440</td>\n",
       "      <td>0.221511</td>\n",
       "      <td>0.417699</td>\n",
       "      <td>0.075109</td>\n",
       "      <td>0.077998</td>\n",
       "      <td>0.112029</td>\n",
       "      <td>0.110172</td>\n",
       "      <td>0.203366</td>\n",
       "      <td>0.084805</td>\n",
       "      <td>0.141413</td>\n",
       "      <td>0.086937</td>\n",
       "      <td>0.081753</td>\n",
       "      <td>0.103448</td>\n",
       "      <td>0.124446</td>\n",
       "      <td>0.212805</td>\n",
       "      <td>-155.028809</td>\n",
       "      <td>108.151901</td>\n",
       "      <td>-19.839388</td>\n",
       "      <td>54.863461</td>\n",
       "      <td>7.768477</td>\n",
       "      <td>32.338737</td>\n",
       "      <td>-6.062465</td>\n",
       "      <td>17.525206</td>\n",
       "      <td>-9.217493</td>\n",
       "      <td>12.633501</td>\n",
       "      <td>-8.053287</td>\n",
       "      <td>10.291918</td>\n",
       "      <td>-7.996464</td>\n",
       "      <td>28.564812</td>\n",
       "      <td>15.724718</td>\n",
       "      <td>16.250956</td>\n",
       "      <td>12.062204</td>\n",
       "      <td>8.066667</td>\n",
       "      <td>6.632788</td>\n",
       "      <td>7.982784</td>\n",
       "      <td>6.161393</td>\n",
       "      <td>8.123721</td>\n",
       "      <td>6.985683</td>\n",
       "      <td>6.209618</td>\n",
       "      <td>6.421845</td>\n",
       "      <td>6.531049</td>\n",
       "      <td>1945.533108</td>\n",
       "      <td>384.131048</td>\n",
       "      <td>0.291289</td>\n",
       "      <td>24.254694</td>\n",
       "      <td>8.682703</td>\n",
       "      <td>4174.593628</td>\n",
       "      <td>899.048142</td>\n",
       "      <td>0.001096</td>\n",
       "      <td>0.070132</td>\n",
       "      <td>0.032947</td>\n",
       "      <td>0.951797</td>\n",
       "      <td>./genres/blues/blues.00050.wav</td>\n",
       "      <td>blues</td>\n",
       "      <td>0</td>\n",
       "    </tr>\n",
       "    <tr>\n",
       "      <th>3</th>\n",
       "      <td>135.999178</td>\n",
       "      <td>0.196588</td>\n",
       "      <td>0.267211</td>\n",
       "      <td>0.309316</td>\n",
       "      <td>0.399083</td>\n",
       "      <td>0.161947</td>\n",
       "      <td>0.129428</td>\n",
       "      <td>0.130272</td>\n",
       "      <td>0.209418</td>\n",
       "      <td>0.306650</td>\n",
       "      <td>0.283205</td>\n",
       "      <td>0.332294</td>\n",
       "      <td>0.168710</td>\n",
       "      <td>0.141488</td>\n",
       "      <td>0.143743</td>\n",
       "      <td>0.155636</td>\n",
       "      <td>0.188552</td>\n",
       "      <td>0.101809</td>\n",
       "      <td>0.077038</td>\n",
       "      <td>0.094457</td>\n",
       "      <td>0.106218</td>\n",
       "      <td>0.119406</td>\n",
       "      <td>0.134985</td>\n",
       "      <td>0.191806</td>\n",
       "      <td>0.108872</td>\n",
       "      <td>-172.573273</td>\n",
       "      <td>87.868797</td>\n",
       "      <td>-5.835929</td>\n",
       "      <td>65.399857</td>\n",
       "      <td>-0.991808</td>\n",
       "      <td>44.302368</td>\n",
       "      <td>-4.786900</td>\n",
       "      <td>29.408709</td>\n",
       "      <td>-11.954704</td>\n",
       "      <td>6.991476</td>\n",
       "      <td>-20.731518</td>\n",
       "      <td>9.790967</td>\n",
       "      <td>-2.482510</td>\n",
       "      <td>18.148523</td>\n",
       "      <td>11.512444</td>\n",
       "      <td>16.288288</td>\n",
       "      <td>7.612768</td>\n",
       "      <td>5.532788</td>\n",
       "      <td>5.618545</td>\n",
       "      <td>6.110736</td>\n",
       "      <td>7.352118</td>\n",
       "      <td>8.822030</td>\n",
       "      <td>9.627688</td>\n",
       "      <td>8.726205</td>\n",
       "      <td>10.343354</td>\n",
       "      <td>10.183887</td>\n",
       "      <td>2278.961252</td>\n",
       "      <td>413.395578</td>\n",
       "      <td>0.768120</td>\n",
       "      <td>24.281220</td>\n",
       "      <td>9.055918</td>\n",
       "      <td>5198.594860</td>\n",
       "      <td>754.756161</td>\n",
       "      <td>0.202230</td>\n",
       "      <td>0.072635</td>\n",
       "      <td>0.023043</td>\n",
       "      <td>0.862730</td>\n",
       "      <td>./genres/blues/blues.00044.wav</td>\n",
       "      <td>blues</td>\n",
       "      <td>0</td>\n",
       "    </tr>\n",
       "    <tr>\n",
       "      <th>4</th>\n",
       "      <td>123.046875</td>\n",
       "      <td>0.135050</td>\n",
       "      <td>0.321793</td>\n",
       "      <td>0.240601</td>\n",
       "      <td>0.354072</td>\n",
       "      <td>0.173473</td>\n",
       "      <td>0.214172</td>\n",
       "      <td>0.279239</td>\n",
       "      <td>0.353443</td>\n",
       "      <td>0.303273</td>\n",
       "      <td>0.225425</td>\n",
       "      <td>0.410760</td>\n",
       "      <td>0.230534</td>\n",
       "      <td>0.062012</td>\n",
       "      <td>0.074763</td>\n",
       "      <td>0.059066</td>\n",
       "      <td>0.078049</td>\n",
       "      <td>0.067477</td>\n",
       "      <td>0.044612</td>\n",
       "      <td>0.062061</td>\n",
       "      <td>0.057020</td>\n",
       "      <td>0.063723</td>\n",
       "      <td>0.040353</td>\n",
       "      <td>0.093157</td>\n",
       "      <td>0.066388</td>\n",
       "      <td>-67.849083</td>\n",
       "      <td>102.900497</td>\n",
       "      <td>-31.063536</td>\n",
       "      <td>40.662491</td>\n",
       "      <td>-10.511797</td>\n",
       "      <td>29.635818</td>\n",
       "      <td>-19.665409</td>\n",
       "      <td>22.800346</td>\n",
       "      <td>-13.869280</td>\n",
       "      <td>14.710169</td>\n",
       "      <td>-12.307549</td>\n",
       "      <td>10.957737</td>\n",
       "      <td>-12.116691</td>\n",
       "      <td>16.551813</td>\n",
       "      <td>7.023187</td>\n",
       "      <td>7.678876</td>\n",
       "      <td>7.001766</td>\n",
       "      <td>7.388095</td>\n",
       "      <td>5.221688</td>\n",
       "      <td>6.695236</td>\n",
       "      <td>4.597244</td>\n",
       "      <td>4.752315</td>\n",
       "      <td>4.510077</td>\n",
       "      <td>5.680328</td>\n",
       "      <td>5.264351</td>\n",
       "      <td>5.192092</td>\n",
       "      <td>2333.510454</td>\n",
       "      <td>299.691821</td>\n",
       "      <td>0.193350</td>\n",
       "      <td>24.460217</td>\n",
       "      <td>10.284561</td>\n",
       "      <td>4942.594552</td>\n",
       "      <td>693.969775</td>\n",
       "      <td>-0.206860</td>\n",
       "      <td>0.106374</td>\n",
       "      <td>0.019811</td>\n",
       "      <td>0.152687</td>\n",
       "      <td>./genres/blues/blues.00078.wav</td>\n",
       "      <td>blues</td>\n",
       "      <td>0</td>\n",
       "    </tr>\n",
       "  </tbody>\n",
       "</table>\n",
       "</div>"
      ],
      "text/plain": [
       "        tempo  chroma_mean_0  ...  genre  genre_num\n",
       "0  143.554688       0.063791  ...  blues          0\n",
       "1  172.265625       0.277434  ...  blues          0\n",
       "2  135.999178       0.226694  ...  blues          0\n",
       "3  135.999178       0.196588  ...  blues          0\n",
       "4  123.046875       0.135050  ...  blues          0\n",
       "\n",
       "[5 rows x 65 columns]"
      ]
     },
     "execution_count": 3,
     "metadata": {
      "tags": []
     },
     "output_type": "execute_result"
    }
   ],
   "source": [
    "df = pd.read_csv('gdrive/My Drive/final_data.csv')\n",
    "df.head()"
   ]
  },
  {
   "cell_type": "code",
   "execution_count": null,
   "metadata": {
    "id": "rQZWXHaADgS-"
   },
   "outputs": [],
   "source": [
    "# Setting up X and y\n",
    "X = df.drop(columns=['file_name', 'genre', 'genre_num'])\n",
    "y = df['genre_num']\n",
    "\n",
    "# Train-test split\n",
    "X_train, X_test, y_train, y_test = train_test_split(X, y, test_size=0.25, stratify=y)"
   ]
  },
  {
   "cell_type": "markdown",
   "metadata": {
    "id": "kz9azHIbYODh"
   },
   "source": [
    "# Accuracy Baseline\n",
    "Since the dataset contains 100 audio samples for each of the 10 genres, the accuracy baseline to beat is 10%. However, since the current state-of-the-art model accuracy score is around 91%, I attempted to either outperform or be near in the 90% accuracy score range."
   ]
  },
  {
   "cell_type": "code",
   "execution_count": null,
   "metadata": {
    "colab": {
     "base_uri": "https://localhost:8080/"
    },
    "id": "bcapaQi-YNlN",
    "outputId": "62faec09-9513-4063-cf74-342bc436899d"
   },
   "outputs": [
    {
     "data": {
      "text/plain": [
       "9    0.1\n",
       "8    0.1\n",
       "7    0.1\n",
       "6    0.1\n",
       "5    0.1\n",
       "4    0.1\n",
       "3    0.1\n",
       "2    0.1\n",
       "1    0.1\n",
       "0    0.1\n",
       "Name: genre_num, dtype: float64"
      ]
     },
     "execution_count": 5,
     "metadata": {
      "tags": []
     },
     "output_type": "execute_result"
    }
   ],
   "source": [
    "y.value_counts(normalize=True)"
   ]
  },
  {
   "cell_type": "markdown",
   "metadata": {
    "id": "sqbqFGuuJ_6j"
   },
   "source": [
    "# Bagged Logistic Regression"
   ]
  },
  {
   "cell_type": "code",
   "execution_count": null,
   "metadata": {
    "id": "qIkMHVEVD75t"
   },
   "outputs": [],
   "source": [
    "# Setting up pipeline\n",
    "\n",
    "pipe_bag_log = Pipeline([\n",
    "    ('ss', StandardScaler()),\n",
    "    ('bag', BaggingClassifier(base_estimator=LogisticRegression()))\n",
    "])"
   ]
  },
  {
   "cell_type": "code",
   "execution_count": null,
   "metadata": {
    "colab": {
     "base_uri": "https://localhost:8080/"
    },
    "id": "wwMdlQJ9EFvB",
    "outputId": "b3f852b0-3a30-4a2c-a647-58bf258759cc"
   },
   "outputs": [
    {
     "data": {
      "text/plain": [
       "{'bag': BaggingClassifier(base_estimator=LogisticRegression(C=1.0, class_weight=None,\n",
       "                                                     dual=False,\n",
       "                                                     fit_intercept=True,\n",
       "                                                     intercept_scaling=1,\n",
       "                                                     l1_ratio=None, max_iter=100,\n",
       "                                                     multi_class='auto',\n",
       "                                                     n_jobs=None, penalty='l2',\n",
       "                                                     random_state=None,\n",
       "                                                     solver='lbfgs', tol=0.0001,\n",
       "                                                     verbose=0,\n",
       "                                                     warm_start=False),\n",
       "                   bootstrap=True, bootstrap_features=False, max_features=1.0,\n",
       "                   max_samples=1.0, n_estimators=10, n_jobs=None,\n",
       "                   oob_score=False, random_state=None, verbose=0,\n",
       "                   warm_start=False),\n",
       " 'bag__base_estimator': LogisticRegression(C=1.0, class_weight=None, dual=False, fit_intercept=True,\n",
       "                    intercept_scaling=1, l1_ratio=None, max_iter=100,\n",
       "                    multi_class='auto', n_jobs=None, penalty='l2',\n",
       "                    random_state=None, solver='lbfgs', tol=0.0001, verbose=0,\n",
       "                    warm_start=False),\n",
       " 'bag__base_estimator__C': 1.0,\n",
       " 'bag__base_estimator__class_weight': None,\n",
       " 'bag__base_estimator__dual': False,\n",
       " 'bag__base_estimator__fit_intercept': True,\n",
       " 'bag__base_estimator__intercept_scaling': 1,\n",
       " 'bag__base_estimator__l1_ratio': None,\n",
       " 'bag__base_estimator__max_iter': 100,\n",
       " 'bag__base_estimator__multi_class': 'auto',\n",
       " 'bag__base_estimator__n_jobs': None,\n",
       " 'bag__base_estimator__penalty': 'l2',\n",
       " 'bag__base_estimator__random_state': None,\n",
       " 'bag__base_estimator__solver': 'lbfgs',\n",
       " 'bag__base_estimator__tol': 0.0001,\n",
       " 'bag__base_estimator__verbose': 0,\n",
       " 'bag__base_estimator__warm_start': False,\n",
       " 'bag__bootstrap': True,\n",
       " 'bag__bootstrap_features': False,\n",
       " 'bag__max_features': 1.0,\n",
       " 'bag__max_samples': 1.0,\n",
       " 'bag__n_estimators': 10,\n",
       " 'bag__n_jobs': None,\n",
       " 'bag__oob_score': False,\n",
       " 'bag__random_state': None,\n",
       " 'bag__verbose': 0,\n",
       " 'bag__warm_start': False,\n",
       " 'memory': None,\n",
       " 'ss': StandardScaler(copy=True, with_mean=True, with_std=True),\n",
       " 'ss__copy': True,\n",
       " 'ss__with_mean': True,\n",
       " 'ss__with_std': True,\n",
       " 'steps': [('ss', StandardScaler(copy=True, with_mean=True, with_std=True)),\n",
       "  ('bag',\n",
       "   BaggingClassifier(base_estimator=LogisticRegression(C=1.0, class_weight=None,\n",
       "                                                       dual=False,\n",
       "                                                       fit_intercept=True,\n",
       "                                                       intercept_scaling=1,\n",
       "                                                       l1_ratio=None, max_iter=100,\n",
       "                                                       multi_class='auto',\n",
       "                                                       n_jobs=None, penalty='l2',\n",
       "                                                       random_state=None,\n",
       "                                                       solver='lbfgs', tol=0.0001,\n",
       "                                                       verbose=0,\n",
       "                                                       warm_start=False),\n",
       "                     bootstrap=True, bootstrap_features=False, max_features=1.0,\n",
       "                     max_samples=1.0, n_estimators=10, n_jobs=None,\n",
       "                     oob_score=False, random_state=None, verbose=0,\n",
       "                     warm_start=False))],\n",
       " 'verbose': False}"
      ]
     },
     "execution_count": 8,
     "metadata": {
      "tags": []
     },
     "output_type": "execute_result"
    }
   ],
   "source": [
    "# List of params\n",
    "\n",
    "pipe_bag_log.get_params()"
   ]
  },
  {
   "cell_type": "code",
   "execution_count": null,
   "metadata": {
    "id": "w2jJ7gFREG8T"
   },
   "outputs": [],
   "source": [
    "# Setting up params\n",
    "\n",
    "bag_log_params = {\n",
    "    'bag__base_estimator__C' : [0.001, 0.01, 0.1, 1, 10],\n",
    "    'bag__n_estimators' : [100, 300, 500],\n",
    "    'bag__base_estimator__penalty' : ['l1', 'l2'],\n",
    "    'bag__base_estimator__solver' : ['liblinear'],\n",
    "    'bag__base_estimator__max_iter' : [5000]\n",
    "}"
   ]
  },
  {
   "cell_type": "code",
   "execution_count": null,
   "metadata": {
    "colab": {
     "base_uri": "https://localhost:8080/"
    },
    "id": "pdyiy1yUESFy",
    "outputId": "94bba0b9-e079-4fa5-e135-585b15fb76a8"
   },
   "outputs": [
    {
     "data": {
      "text/plain": [
       "GridSearchCV(cv=5, error_score=nan,\n",
       "             estimator=Pipeline(memory=None,\n",
       "                                steps=[('ss',\n",
       "                                        StandardScaler(copy=True,\n",
       "                                                       with_mean=True,\n",
       "                                                       with_std=True)),\n",
       "                                       ('bag',\n",
       "                                        BaggingClassifier(base_estimator=LogisticRegression(C=1.0,\n",
       "                                                                                            class_weight=None,\n",
       "                                                                                            dual=False,\n",
       "                                                                                            fit_intercept=True,\n",
       "                                                                                            intercept_scaling=1,\n",
       "                                                                                            l1_ratio=None,\n",
       "                                                                                            max_iter=100,\n",
       "                                                                                            multi_class='auto',\n",
       "                                                                                            n_jobs=None,\n",
       "                                                                                            penalty='l2',\n",
       "                                                                                            random_state...\n",
       "                                                          warm_start=False))],\n",
       "                                verbose=False),\n",
       "             iid='deprecated', n_jobs=None,\n",
       "             param_grid={'bag__base_estimator__C': [0.001, 0.01, 0.1, 1, 10],\n",
       "                         'bag__base_estimator__max_iter': [5000],\n",
       "                         'bag__base_estimator__penalty': ['l1', 'l2'],\n",
       "                         'bag__base_estimator__solver': ['liblinear'],\n",
       "                         'bag__n_estimators': [100, 300, 500]},\n",
       "             pre_dispatch='2*n_jobs', refit=True, return_train_score=False,\n",
       "             scoring=None, verbose=0)"
      ]
     },
     "execution_count": 10,
     "metadata": {
      "tags": []
     },
     "output_type": "execute_result"
    }
   ],
   "source": [
    "# GridSearch\n",
    "\n",
    "gs_bag_log = GridSearchCV(pipe_bag_log, param_grid=bag_log_params, cv=5, verbose=0)\n",
    "\n",
    "gs_bag_log.fit(X_train, y_train)"
   ]
  },
  {
   "cell_type": "code",
   "execution_count": null,
   "metadata": {
    "colab": {
     "base_uri": "https://localhost:8080/"
    },
    "id": "jJhygCQeJfF0",
    "outputId": "fbb9352b-1da5-4758-9855-45eecbdfc3d1"
   },
   "outputs": [
    {
     "data": {
      "text/plain": [
       "{'bag__base_estimator__C': 1,\n",
       " 'bag__base_estimator__max_iter': 5000,\n",
       " 'bag__base_estimator__penalty': 'l1',\n",
       " 'bag__base_estimator__solver': 'liblinear',\n",
       " 'bag__n_estimators': 300}"
      ]
     },
     "execution_count": 11,
     "metadata": {
      "tags": []
     },
     "output_type": "execute_result"
    }
   ],
   "source": [
    "# Best params\n",
    "\n",
    "gs_bag_log.best_params_"
   ]
  },
  {
   "cell_type": "code",
   "execution_count": null,
   "metadata": {
    "colab": {
     "base_uri": "https://localhost:8080/"
    },
    "id": "CJ0uD55AJkDz",
    "outputId": "6e61f3c2-f3cd-4e3b-eb5a-9442d2582819"
   },
   "outputs": [
    {
     "name": "stdout",
     "output_type": "stream",
     "text": [
      "Best cross validated score: 0.6639999999999999\n"
     ]
    }
   ],
   "source": [
    "# Best cross validated score\n",
    "\n",
    "print(f'Best cross validated score: {gs_bag_log.best_score_}')"
   ]
  },
  {
   "cell_type": "code",
   "execution_count": null,
   "metadata": {
    "id": "Y7DjWa8SmMZp"
   },
   "outputs": [],
   "source": [
    "# Saving best estimator as a new variable\n",
    "\n",
    "bag_log_best_model = gs_bag_log.best_estimator_"
   ]
  },
  {
   "cell_type": "code",
   "execution_count": null,
   "metadata": {
    "colab": {
     "base_uri": "https://localhost:8080/"
    },
    "id": "xmKjWPtAmazd",
    "outputId": "06600bf0-dee4-48c6-98e8-e8ac9961cc91"
   },
   "outputs": [
    {
     "name": "stdout",
     "output_type": "stream",
     "text": [
      "Training Accuracy: 0.864\n",
      "Testing Accuracy: 0.728\n"
     ]
    }
   ],
   "source": [
    "# Evaluation based on accuracy\n",
    "\n",
    "print(f'Training Accuracy: {bag_log_best_model.score(X_train, y_train)}')\n",
    "print(f'Testing Accuracy: {bag_log_best_model.score(X_test, y_test)}')"
   ]
  },
  {
   "cell_type": "markdown",
   "metadata": {
    "id": "kxd-0eOKsDG0"
   },
   "source": [
    "# Bagged KNN\n",
    "\n"
   ]
  },
  {
   "cell_type": "code",
   "execution_count": null,
   "metadata": {
    "id": "o9GBKE36sCkk"
   },
   "outputs": [],
   "source": [
    "# Setting up the pipe\n",
    "\n",
    "pipe_bag_knn = Pipeline([\n",
    "    ('ss', StandardScaler()),\n",
    "    ('bag', BaggingClassifier(base_estimator=KNeighborsClassifier()))\n",
    "])"
   ]
  },
  {
   "cell_type": "code",
   "execution_count": null,
   "metadata": {
    "colab": {
     "base_uri": "https://localhost:8080/"
    },
    "id": "YsMjORa4skw1",
    "outputId": "aa2ce0c8-1509-4da3-bc69-0449238133dd"
   },
   "outputs": [
    {
     "data": {
      "text/plain": [
       "{'bag': BaggingClassifier(base_estimator=KNeighborsClassifier(algorithm='auto',\n",
       "                                                       leaf_size=30,\n",
       "                                                       metric='minkowski',\n",
       "                                                       metric_params=None,\n",
       "                                                       n_jobs=None,\n",
       "                                                       n_neighbors=5, p=2,\n",
       "                                                       weights='uniform'),\n",
       "                   bootstrap=True, bootstrap_features=False, max_features=1.0,\n",
       "                   max_samples=1.0, n_estimators=10, n_jobs=None,\n",
       "                   oob_score=False, random_state=None, verbose=0,\n",
       "                   warm_start=False),\n",
       " 'bag__base_estimator': KNeighborsClassifier(algorithm='auto', leaf_size=30, metric='minkowski',\n",
       "                      metric_params=None, n_jobs=None, n_neighbors=5, p=2,\n",
       "                      weights='uniform'),\n",
       " 'bag__base_estimator__algorithm': 'auto',\n",
       " 'bag__base_estimator__leaf_size': 30,\n",
       " 'bag__base_estimator__metric': 'minkowski',\n",
       " 'bag__base_estimator__metric_params': None,\n",
       " 'bag__base_estimator__n_jobs': None,\n",
       " 'bag__base_estimator__n_neighbors': 5,\n",
       " 'bag__base_estimator__p': 2,\n",
       " 'bag__base_estimator__weights': 'uniform',\n",
       " 'bag__bootstrap': True,\n",
       " 'bag__bootstrap_features': False,\n",
       " 'bag__max_features': 1.0,\n",
       " 'bag__max_samples': 1.0,\n",
       " 'bag__n_estimators': 10,\n",
       " 'bag__n_jobs': None,\n",
       " 'bag__oob_score': False,\n",
       " 'bag__random_state': None,\n",
       " 'bag__verbose': 0,\n",
       " 'bag__warm_start': False,\n",
       " 'memory': None,\n",
       " 'ss': StandardScaler(copy=True, with_mean=True, with_std=True),\n",
       " 'ss__copy': True,\n",
       " 'ss__with_mean': True,\n",
       " 'ss__with_std': True,\n",
       " 'steps': [('ss', StandardScaler(copy=True, with_mean=True, with_std=True)),\n",
       "  ('bag',\n",
       "   BaggingClassifier(base_estimator=KNeighborsClassifier(algorithm='auto',\n",
       "                                                         leaf_size=30,\n",
       "                                                         metric='minkowski',\n",
       "                                                         metric_params=None,\n",
       "                                                         n_jobs=None,\n",
       "                                                         n_neighbors=5, p=2,\n",
       "                                                         weights='uniform'),\n",
       "                     bootstrap=True, bootstrap_features=False, max_features=1.0,\n",
       "                     max_samples=1.0, n_estimators=10, n_jobs=None,\n",
       "                     oob_score=False, random_state=None, verbose=0,\n",
       "                     warm_start=False))],\n",
       " 'verbose': False}"
      ]
     },
     "execution_count": 16,
     "metadata": {
      "tags": []
     },
     "output_type": "execute_result"
    }
   ],
   "source": [
    "# List of params\n",
    "\n",
    "pipe_bag_knn.get_params()"
   ]
  },
  {
   "cell_type": "code",
   "execution_count": null,
   "metadata": {
    "id": "8j8MUZhhsmsP"
   },
   "outputs": [],
   "source": [
    "knn_params = {\n",
    "    'bag__base_estimator__metric' : ['minkowski', 'euclidean'],\n",
    "    'bag__base_estimator__n_neighbors' : [3, 5, 7, 9, 11, 13, 15, 17, 19],\n",
    "    'bag__base_estimator__weights' :['uniform', 'distance'],\n",
    "    'bag__n_estimators' : [100, 300, 500]\n",
    "}"
   ]
  },
  {
   "cell_type": "code",
   "execution_count": null,
   "metadata": {
    "colab": {
     "base_uri": "https://localhost:8080/"
    },
    "id": "5ACYVgYFxAnp",
    "outputId": "a8753d99-cb43-4975-b120-cd55569f282b"
   },
   "outputs": [
    {
     "data": {
      "text/plain": [
       "GridSearchCV(cv=5, error_score=nan,\n",
       "             estimator=Pipeline(memory=None,\n",
       "                                steps=[('ss',\n",
       "                                        StandardScaler(copy=True,\n",
       "                                                       with_mean=True,\n",
       "                                                       with_std=True)),\n",
       "                                       ('bag',\n",
       "                                        BaggingClassifier(base_estimator=KNeighborsClassifier(algorithm='auto',\n",
       "                                                                                              leaf_size=30,\n",
       "                                                                                              metric='minkowski',\n",
       "                                                                                              metric_params=None,\n",
       "                                                                                              n_jobs=None,\n",
       "                                                                                              n_neighbors=5,\n",
       "                                                                                              p=2,\n",
       "                                                                                              weights='uniform'),\n",
       "                                                          bootstrap=True,\n",
       "                                                          bootstrap_features=Fals...\n",
       "                                                          warm_start=False))],\n",
       "                                verbose=False),\n",
       "             iid='deprecated', n_jobs=None,\n",
       "             param_grid={'bag__base_estimator__metric': ['minkowski',\n",
       "                                                         'euclidean'],\n",
       "                         'bag__base_estimator__n_neighbors': [3, 5, 7, 9, 11,\n",
       "                                                              13, 15, 17, 19],\n",
       "                         'bag__base_estimator__weights': ['uniform',\n",
       "                                                          'distance'],\n",
       "                         'bag__n_estimators': [100, 300, 500]},\n",
       "             pre_dispatch='2*n_jobs', refit=True, return_train_score=False,\n",
       "             scoring=None, verbose=0)"
      ]
     },
     "execution_count": 18,
     "metadata": {
      "tags": []
     },
     "output_type": "execute_result"
    }
   ],
   "source": [
    "# GridSearch\n",
    "\n",
    "gs_knn = GridSearchCV(pipe_bag_knn, param_grid=knn_params, cv=5, verbose=0)\n",
    "\n",
    "gs_knn.fit(X_train, y_train)"
   ]
  },
  {
   "cell_type": "code",
   "execution_count": null,
   "metadata": {
    "colab": {
     "base_uri": "https://localhost:8080/"
    },
    "id": "da2rU_4vx7WI",
    "outputId": "c5ff9167-552a-46cc-c570-e6dfaa40e871"
   },
   "outputs": [
    {
     "data": {
      "text/plain": [
       "{'bag__base_estimator__metric': 'minkowski',\n",
       " 'bag__base_estimator__n_neighbors': 7,\n",
       " 'bag__base_estimator__weights': 'distance',\n",
       " 'bag__n_estimators': 100}"
      ]
     },
     "execution_count": 19,
     "metadata": {
      "tags": []
     },
     "output_type": "execute_result"
    }
   ],
   "source": [
    "# Best params\n",
    "\n",
    "gs_knn.best_params_"
   ]
  },
  {
   "cell_type": "code",
   "execution_count": null,
   "metadata": {
    "colab": {
     "base_uri": "https://localhost:8080/"
    },
    "id": "xRnXaS5AJWId",
    "outputId": "274f0eff-58f1-4b4b-bea3-3dadc49f9d4b"
   },
   "outputs": [
    {
     "name": "stdout",
     "output_type": "stream",
     "text": [
      "Best cross validated score: 0.603\n"
     ]
    }
   ],
   "source": [
    "# Best cross validated score\n",
    "\n",
    "print(f'Best cross validated score: {round(gs_knn.best_score_,3)}')"
   ]
  },
  {
   "cell_type": "code",
   "execution_count": null,
   "metadata": {
    "id": "HX0x8u_-X41l"
   },
   "outputs": [],
   "source": [
    "# Saving best estimator as a new variable\n",
    "\n",
    "bag_knn_best_model = gs_knn.best_estimator_"
   ]
  },
  {
   "cell_type": "code",
   "execution_count": null,
   "metadata": {
    "colab": {
     "base_uri": "https://localhost:8080/"
    },
    "id": "LkFfhp2gX_Kk",
    "outputId": "fa4e6b76-7e91-4844-9767-8ea7cb0a1435"
   },
   "outputs": [
    {
     "name": "stdout",
     "output_type": "stream",
     "text": [
      "Training Accuracy: 0.999\n",
      "Testing Accuracy: 0.624\n"
     ]
    }
   ],
   "source": [
    "# Evaluation based on accuracy\n",
    "\n",
    "print(f'Training Accuracy: {round(bag_knn_best_model.score(X_train, y_train),3)}')\n",
    "print(f'Testing Accuracy: {round(bag_knn_best_model.score(X_test, y_test),3)}')"
   ]
  },
  {
   "cell_type": "markdown",
   "metadata": {
    "id": "W1ibsGK_ZAbi"
   },
   "source": [
    "# Random Forests"
   ]
  },
  {
   "cell_type": "code",
   "execution_count": null,
   "metadata": {
    "id": "MlSJv00fZGIJ"
   },
   "outputs": [],
   "source": [
    "# Instantiate Random Forests\n",
    "rf = RandomForestClassifier()"
   ]
  },
  {
   "cell_type": "code",
   "execution_count": null,
   "metadata": {
    "colab": {
     "base_uri": "https://localhost:8080/"
    },
    "id": "3p01gOr9ZGFD",
    "outputId": "fdb5d191-8020-4809-a309-3c313adf025a"
   },
   "outputs": [
    {
     "data": {
      "text/plain": [
       "{'bootstrap': True,\n",
       " 'ccp_alpha': 0.0,\n",
       " 'class_weight': None,\n",
       " 'criterion': 'gini',\n",
       " 'max_depth': None,\n",
       " 'max_features': 'auto',\n",
       " 'max_leaf_nodes': None,\n",
       " 'max_samples': None,\n",
       " 'min_impurity_decrease': 0.0,\n",
       " 'min_impurity_split': None,\n",
       " 'min_samples_leaf': 1,\n",
       " 'min_samples_split': 2,\n",
       " 'min_weight_fraction_leaf': 0.0,\n",
       " 'n_estimators': 100,\n",
       " 'n_jobs': None,\n",
       " 'oob_score': False,\n",
       " 'random_state': None,\n",
       " 'verbose': 0,\n",
       " 'warm_start': False}"
      ]
     },
     "execution_count": 10,
     "metadata": {
      "tags": []
     },
     "output_type": "execute_result"
    }
   ],
   "source": [
    "# Get params\n",
    "\n",
    "rf.get_params()"
   ]
  },
  {
   "cell_type": "code",
   "execution_count": null,
   "metadata": {
    "id": "ZMVrh7nxZGCe"
   },
   "outputs": [],
   "source": [
    "# Set the params\n",
    "rf_params = {\n",
    "    'ccp_alpha' : [0.001, 0.01, 0.1, 1, 5, 10],\n",
    "    'max_features' : ['auto'],\n",
    "    'max_depth' : [None, 2, 3, 4, 5],\n",
    "    'min_samples_split' : [2, 3, 4, 5],\n",
    "    'min_samples_leaf' : [2, 3, 4, 5],\n",
    "    'n_estimators' : [100]\n",
    "}"
   ]
  },
  {
   "cell_type": "code",
   "execution_count": null,
   "metadata": {
    "colab": {
     "base_uri": "https://localhost:8080/"
    },
    "id": "1MRfyq6OZF6N",
    "outputId": "586b399e-a447-4ddf-efca-daa1b4e4b068"
   },
   "outputs": [
    {
     "data": {
      "text/plain": [
       "GridSearchCV(cv=5, error_score=nan,\n",
       "             estimator=RandomForestClassifier(bootstrap=True, ccp_alpha=0.0,\n",
       "                                              class_weight=None,\n",
       "                                              criterion='gini', max_depth=None,\n",
       "                                              max_features='auto',\n",
       "                                              max_leaf_nodes=None,\n",
       "                                              max_samples=None,\n",
       "                                              min_impurity_decrease=0.0,\n",
       "                                              min_impurity_split=None,\n",
       "                                              min_samples_leaf=1,\n",
       "                                              min_samples_split=2,\n",
       "                                              min_weight_fraction_leaf=0.0,\n",
       "                                              n_estimators=100, n_jobs=None,\n",
       "                                              oob_score=False,\n",
       "                                              random_state=None, verbose=0,\n",
       "                                              warm_start=False),\n",
       "             iid='deprecated', n_jobs=None,\n",
       "             param_grid={'ccp_alpha': [0.001, 0.01, 0.1, 1, 5, 10],\n",
       "                         'max_depth': [None, 2, 3, 4, 5],\n",
       "                         'max_features': ['auto'],\n",
       "                         'min_samples_leaf': [2, 3, 4, 5],\n",
       "                         'min_samples_split': [2, 3, 4, 5],\n",
       "                         'n_estimators': [100]},\n",
       "             pre_dispatch='2*n_jobs', refit=True, return_train_score=False,\n",
       "             scoring=None, verbose=0)"
      ]
     },
     "execution_count": 12,
     "metadata": {
      "tags": []
     },
     "output_type": "execute_result"
    }
   ],
   "source": [
    "# GridSearch\n",
    "gs_rf = GridSearchCV(rf, param_grid=rf_params, cv=5, verbose=0)\n",
    "gs_rf.fit(X_train, y_train)"
   ]
  },
  {
   "cell_type": "code",
   "execution_count": null,
   "metadata": {
    "colab": {
     "base_uri": "https://localhost:8080/"
    },
    "id": "WKeHY0PNZFrw",
    "outputId": "2b51112b-f9f6-4155-e526-f315a235a583"
   },
   "outputs": [
    {
     "data": {
      "text/plain": [
       "{'ccp_alpha': 0.001,\n",
       " 'max_depth': None,\n",
       " 'max_features': 'auto',\n",
       " 'min_samples_leaf': 2,\n",
       " 'min_samples_split': 4,\n",
       " 'n_estimators': 100}"
      ]
     },
     "execution_count": 13,
     "metadata": {
      "tags": []
     },
     "output_type": "execute_result"
    }
   ],
   "source": [
    "# Best params\n",
    "gs_rf.best_params_"
   ]
  },
  {
   "cell_type": "code",
   "execution_count": null,
   "metadata": {
    "colab": {
     "base_uri": "https://localhost:8080/"
    },
    "id": "2TK6Ci-_fm-A",
    "outputId": "facd6401-9721-4760-f453-c9dbebd53a08"
   },
   "outputs": [
    {
     "name": "stdout",
     "output_type": "stream",
     "text": [
      "Best cross validated score: 0.66\n"
     ]
    }
   ],
   "source": [
    "# Best cross validated score\n",
    "\n",
    "print(f'Best cross validated score: {round(gs_rf.best_score_,3)}')"
   ]
  },
  {
   "cell_type": "code",
   "execution_count": null,
   "metadata": {
    "id": "JEKUfIKFfnyy"
   },
   "outputs": [],
   "source": [
    "# Saving best estimator as a new variable\n",
    "\n",
    "best_rf_model = gs_rf.best_estimator_"
   ]
  },
  {
   "cell_type": "code",
   "execution_count": null,
   "metadata": {
    "colab": {
     "base_uri": "https://localhost:8080/"
    },
    "id": "UPq7JNK_fnVq",
    "outputId": "8698d33b-8bb7-42c5-ae93-ac02fcba2add"
   },
   "outputs": [
    {
     "name": "stdout",
     "output_type": "stream",
     "text": [
      "Training Accuracy: 0.999\n",
      "Testing Accuracy: 0.652\n"
     ]
    }
   ],
   "source": [
    "# Evaluation based on accuracy\n",
    "\n",
    "print(f'Training Accuracy: {round(best_rf_model.score(X_train, y_train),3)}')\n",
    "print(f'Testing Accuracy: {round(best_rf_model.score(X_test, y_test),3)}')"
   ]
  },
  {
   "cell_type": "markdown",
   "metadata": {
    "id": "z24S4HZZY-4-"
   },
   "source": [
    "## SVM"
   ]
  },
  {
   "cell_type": "code",
   "execution_count": null,
   "metadata": {
    "id": "leAvR7HVY_s-"
   },
   "outputs": [],
   "source": [
    "# Setting up pipeline\n",
    "\n",
    "pipe_svc = Pipeline([\n",
    "              ('ss', StandardScaler()),\n",
    "              ('svc', SVC())\n",
    "])"
   ]
  },
  {
   "cell_type": "code",
   "execution_count": null,
   "metadata": {
    "colab": {
     "base_uri": "https://localhost:8080/"
    },
    "id": "gX9-p3aK1s9W",
    "outputId": "ce775c78-f9d0-4b9a-e5f4-fb4641c9efeb"
   },
   "outputs": [
    {
     "data": {
      "text/plain": [
       "{'memory': None,\n",
       " 'ss': StandardScaler(copy=True, with_mean=True, with_std=True),\n",
       " 'ss__copy': True,\n",
       " 'ss__with_mean': True,\n",
       " 'ss__with_std': True,\n",
       " 'steps': [('ss', StandardScaler(copy=True, with_mean=True, with_std=True)),\n",
       "  ('svc',\n",
       "   SVC(C=1.0, break_ties=False, cache_size=200, class_weight=None, coef0=0.0,\n",
       "       decision_function_shape='ovr', degree=3, gamma='scale', kernel='rbf',\n",
       "       max_iter=-1, probability=False, random_state=None, shrinking=True,\n",
       "       tol=0.001, verbose=False))],\n",
       " 'svc': SVC(C=1.0, break_ties=False, cache_size=200, class_weight=None, coef0=0.0,\n",
       "     decision_function_shape='ovr', degree=3, gamma='scale', kernel='rbf',\n",
       "     max_iter=-1, probability=False, random_state=None, shrinking=True,\n",
       "     tol=0.001, verbose=False),\n",
       " 'svc__C': 1.0,\n",
       " 'svc__break_ties': False,\n",
       " 'svc__cache_size': 200,\n",
       " 'svc__class_weight': None,\n",
       " 'svc__coef0': 0.0,\n",
       " 'svc__decision_function_shape': 'ovr',\n",
       " 'svc__degree': 3,\n",
       " 'svc__gamma': 'scale',\n",
       " 'svc__kernel': 'rbf',\n",
       " 'svc__max_iter': -1,\n",
       " 'svc__probability': False,\n",
       " 'svc__random_state': None,\n",
       " 'svc__shrinking': True,\n",
       " 'svc__tol': 0.001,\n",
       " 'svc__verbose': False,\n",
       " 'verbose': False}"
      ]
     },
     "execution_count": 26,
     "metadata": {
      "tags": []
     },
     "output_type": "execute_result"
    }
   ],
   "source": [
    "# List of params\n",
    "\n",
    "pipe_svc.get_params()"
   ]
  },
  {
   "cell_type": "code",
   "execution_count": null,
   "metadata": {
    "id": "gtsxiqoI1sue"
   },
   "outputs": [],
   "source": [
    "# params\n",
    "\n",
    "svc_params = {\n",
    "    'svc__C' :[0.001, 0.01, 0.1, 1, 5, 10],\n",
    "    'svc__degree' : [2, 3],\n",
    "    'svc__probability' : [True]\n",
    "}"
   ]
  },
  {
   "cell_type": "code",
   "execution_count": null,
   "metadata": {
    "colab": {
     "base_uri": "https://localhost:8080/"
    },
    "id": "ghvfMBfrYDZE",
    "outputId": "9bce42c4-d925-4337-be7a-5e112117257c"
   },
   "outputs": [
    {
     "data": {
      "text/plain": [
       "GridSearchCV(cv=5, error_score=nan,\n",
       "             estimator=Pipeline(memory=None,\n",
       "                                steps=[('ss',\n",
       "                                        StandardScaler(copy=True,\n",
       "                                                       with_mean=True,\n",
       "                                                       with_std=True)),\n",
       "                                       ('svc',\n",
       "                                        SVC(C=1.0, break_ties=False,\n",
       "                                            cache_size=200, class_weight=None,\n",
       "                                            coef0=0.0,\n",
       "                                            decision_function_shape='ovr',\n",
       "                                            degree=3, gamma='scale',\n",
       "                                            kernel='rbf', max_iter=-1,\n",
       "                                            probability=False,\n",
       "                                            random_state=None, shrinking=True,\n",
       "                                            tol=0.001, verbose=False))],\n",
       "                                verbose=False),\n",
       "             iid='deprecated', n_jobs=None,\n",
       "             param_grid={'svc__C': [0.001, 0.01, 0.1, 1, 5, 10],\n",
       "                         'svc__degree': [2, 3], 'svc__probability': [True]},\n",
       "             pre_dispatch='2*n_jobs', refit=True, return_train_score=False,\n",
       "             scoring=None, verbose=0)"
      ]
     },
     "execution_count": 38,
     "metadata": {
      "tags": []
     },
     "output_type": "execute_result"
    }
   ],
   "source": [
    "# GridSearch\n",
    "gs_svc = GridSearchCV(pipe_svc, param_grid=svc_params, cv=5, verbose=0)\n",
    "gs_svc.fit(X_train, y_train)"
   ]
  },
  {
   "cell_type": "code",
   "execution_count": null,
   "metadata": {
    "colab": {
     "base_uri": "https://localhost:8080/"
    },
    "id": "1ZJcTjXb3S5Q",
    "outputId": "90e5be4b-051e-4b32-8709-5ae65551d772"
   },
   "outputs": [
    {
     "data": {
      "text/plain": [
       "{'svc__C': 5, 'svc__degree': 2, 'svc__probability': True}"
      ]
     },
     "execution_count": 39,
     "metadata": {
      "tags": []
     },
     "output_type": "execute_result"
    }
   ],
   "source": [
    "# Best params\n",
    "gs_svc.best_params_"
   ]
  },
  {
   "cell_type": "code",
   "execution_count": null,
   "metadata": {
    "colab": {
     "base_uri": "https://localhost:8080/"
    },
    "id": "XhgsaXbZ3Zvp",
    "outputId": "4b19b400-2ee1-4c6d-87ed-cf18ab3df34a"
   },
   "outputs": [
    {
     "name": "stdout",
     "output_type": "stream",
     "text": [
      "Best cross validated score: 0.695\n"
     ]
    }
   ],
   "source": [
    "# Best cross validated score\n",
    "\n",
    "print(f'Best cross validated score: {round(gs_svc.best_score_,3)}')"
   ]
  },
  {
   "cell_type": "code",
   "execution_count": null,
   "metadata": {
    "id": "UJ_XG-J83twn"
   },
   "outputs": [],
   "source": [
    "# Saving best estimator as a new variable\n",
    "\n",
    "best_svc_model = gs_svc.best_estimator_"
   ]
  },
  {
   "cell_type": "code",
   "execution_count": null,
   "metadata": {
    "colab": {
     "base_uri": "https://localhost:8080/"
    },
    "id": "jXeMHkFF4FqH",
    "outputId": "4dd45dd6-a9c2-41ce-efaf-e7029c2ae53e"
   },
   "outputs": [
    {
     "name": "stdout",
     "output_type": "stream",
     "text": [
      "Training Accuracy: 1.0\n",
      "Testing Accuracy: 0.72\n"
     ]
    }
   ],
   "source": [
    "# Evaluation based on accuracy\n",
    "\n",
    "print(f'Training Accuracy: {round(best_svc_model.score(X_train, y_train),3)}')\n",
    "print(f'Testing Accuracy: {round(best_svc_model.score(X_test, y_test),3)}')"
   ]
  },
  {
   "cell_type": "markdown",
   "metadata": {
    "id": "KGDUbzzpZ2uB"
   },
   "source": [
    "# Gradient Boosting"
   ]
  },
  {
   "cell_type": "code",
   "execution_count": null,
   "metadata": {
    "id": "PLBL9sfxZ2Qp"
   },
   "outputs": [],
   "source": [
    "# Instantiate\n",
    "gb = GradientBoostingClassifier()"
   ]
  },
  {
   "cell_type": "code",
   "execution_count": null,
   "metadata": {
    "colab": {
     "base_uri": "https://localhost:8080/"
    },
    "id": "RkxyxLboZ2Mi",
    "outputId": "a94563ca-6d62-4dd9-e1a9-ed15995550ed"
   },
   "outputs": [
    {
     "data": {
      "text/plain": [
       "{'ccp_alpha': 0.0,\n",
       " 'criterion': 'friedman_mse',\n",
       " 'init': None,\n",
       " 'learning_rate': 0.1,\n",
       " 'loss': 'deviance',\n",
       " 'max_depth': 3,\n",
       " 'max_features': None,\n",
       " 'max_leaf_nodes': None,\n",
       " 'min_impurity_decrease': 0.0,\n",
       " 'min_impurity_split': None,\n",
       " 'min_samples_leaf': 1,\n",
       " 'min_samples_split': 2,\n",
       " 'min_weight_fraction_leaf': 0.0,\n",
       " 'n_estimators': 100,\n",
       " 'n_iter_no_change': None,\n",
       " 'presort': 'deprecated',\n",
       " 'random_state': None,\n",
       " 'subsample': 1.0,\n",
       " 'tol': 0.0001,\n",
       " 'validation_fraction': 0.1,\n",
       " 'verbose': 0,\n",
       " 'warm_start': False}"
      ]
     },
     "execution_count": 9,
     "metadata": {
      "tags": []
     },
     "output_type": "execute_result"
    }
   ],
   "source": [
    "# List of params\n",
    "gb.get_params()"
   ]
  },
  {
   "cell_type": "code",
   "execution_count": null,
   "metadata": {
    "id": "46qvaVgpZ2JU"
   },
   "outputs": [],
   "source": [
    "# Setting up params\n",
    "\n",
    "gb_params = {\n",
    "    'ccp_alpha' : [0.001, 0.01, 0.1, 1, 5, 10],\n",
    "    'learning_rate':[0.001, 0.01, 0.1, 1, 5, 10],\n",
    "    'max_depth': [2, 3, 4],\n",
    "    'min_samples_split' : [2, 3, 4]\n",
    "}"
   ]
  },
  {
   "cell_type": "code",
   "execution_count": null,
   "metadata": {
    "colab": {
     "base_uri": "https://localhost:8080/"
    },
    "id": "La1ASs_9Z2Gf",
    "outputId": "1019c214-3919-4681-d1c4-702bc827c082"
   },
   "outputs": [
    {
     "data": {
      "text/plain": [
       "GridSearchCV(cv=5, error_score=nan,\n",
       "             estimator=GradientBoostingClassifier(ccp_alpha=0.0,\n",
       "                                                  criterion='friedman_mse',\n",
       "                                                  init=None, learning_rate=0.1,\n",
       "                                                  loss='deviance', max_depth=3,\n",
       "                                                  max_features=None,\n",
       "                                                  max_leaf_nodes=None,\n",
       "                                                  min_impurity_decrease=0.0,\n",
       "                                                  min_impurity_split=None,\n",
       "                                                  min_samples_leaf=1,\n",
       "                                                  min_samples_split=2,\n",
       "                                                  min_weight_fraction_leaf=0.0,\n",
       "                                                  n_estimators=100,\n",
       "                                                  n_iter_no_c...\n",
       "                                                  presort='deprecated',\n",
       "                                                  random_state=None,\n",
       "                                                  subsample=1.0, tol=0.0001,\n",
       "                                                  validation_fraction=0.1,\n",
       "                                                  verbose=0, warm_start=False),\n",
       "             iid='deprecated', n_jobs=None,\n",
       "             param_grid={'ccp_alpha': [0.001, 0.01, 0.1, 1, 5, 10],\n",
       "                         'learning_rate': [0.001, 0.01, 0.1, 1, 5, 10],\n",
       "                         'max_depth': [2, 3, 4],\n",
       "                         'min_samples_split': [2, 3, 4]},\n",
       "             pre_dispatch='2*n_jobs', refit=True, return_train_score=False,\n",
       "             scoring=None, verbose=0)"
      ]
     },
     "execution_count": 11,
     "metadata": {
      "tags": []
     },
     "output_type": "execute_result"
    }
   ],
   "source": [
    "# GridSearch\n",
    "gb_gs = GridSearchCV(gb, param_grid=gb_params, cv=5, verbose=0)\n",
    "gb_gs.fit(X_train, y_train)"
   ]
  },
  {
   "cell_type": "code",
   "execution_count": null,
   "metadata": {
    "colab": {
     "base_uri": "https://localhost:8080/"
    },
    "id": "R5Z5uW3UZ2CS",
    "outputId": "cb6dcb51-10c5-448c-f78b-d7dc1ff9f311"
   },
   "outputs": [
    {
     "data": {
      "text/plain": [
       "{'ccp_alpha': 0.001,\n",
       " 'learning_rate': 0.1,\n",
       " 'max_depth': 3,\n",
       " 'min_samples_split': 2}"
      ]
     },
     "execution_count": 14,
     "metadata": {
      "tags": []
     },
     "output_type": "execute_result"
    }
   ],
   "source": [
    "# Best params\n",
    "gb_gs.best_params_"
   ]
  },
  {
   "cell_type": "code",
   "execution_count": null,
   "metadata": {
    "colab": {
     "base_uri": "https://localhost:8080/"
    },
    "id": "hHT6hM3WZ1_D",
    "outputId": "ea5f0d08-b93b-41d3-dbbb-5299d82f419a"
   },
   "outputs": [
    {
     "name": "stdout",
     "output_type": "stream",
     "text": [
      "Best cross validated score: 0.611\n"
     ]
    }
   ],
   "source": [
    "# Best cross validated score\n",
    "\n",
    "print(f'Best cross validated score: {round(gb_gs.best_score_,3)}')"
   ]
  },
  {
   "cell_type": "code",
   "execution_count": null,
   "metadata": {
    "id": "-38KvWlvZ18J"
   },
   "outputs": [],
   "source": [
    "# Saving best estimator as a new variable\n",
    "\n",
    "best_gb_model = gb_gs.best_estimator_"
   ]
  },
  {
   "cell_type": "code",
   "execution_count": null,
   "metadata": {
    "colab": {
     "base_uri": "https://localhost:8080/"
    },
    "id": "aq8-DQkyZ15p",
    "outputId": "578b25bc-8495-4a74-adff-8443e533cfeb"
   },
   "outputs": [
    {
     "name": "stdout",
     "output_type": "stream",
     "text": [
      "Training Accuracy: 0.94\n",
      "Testing Accuracy: 0.644\n"
     ]
    }
   ],
   "source": [
    "# Evaluation based on accuracy\n",
    "\n",
    "print(f'Training Accuracy: {round(best_gb_model.score(X_train, y_train),3)}')\n",
    "print(f'Testing Accuracy: {round(best_gb_model.score(X_test, y_test),3)}')"
   ]
  },
  {
   "cell_type": "markdown",
   "metadata": {
    "id": "ZpqjzD-Q7X_2"
   },
   "source": [
    "# XGBoost"
   ]
  },
  {
   "cell_type": "code",
   "execution_count": null,
   "metadata": {
    "id": "UrJDcwKT4YbD"
   },
   "outputs": [],
   "source": [
    "# Instantiate\n",
    "xg = XGBClassifier()"
   ]
  },
  {
   "cell_type": "code",
   "execution_count": null,
   "metadata": {
    "colab": {
     "base_uri": "https://localhost:8080/"
    },
    "id": "MRlhNsXw7l1L",
    "outputId": "5a58f829-b850-4c41-a3f5-55a0d74bf605"
   },
   "outputs": [
    {
     "data": {
      "text/plain": [
       "{'base_score': 0.5,\n",
       " 'booster': 'gbtree',\n",
       " 'colsample_bylevel': 1,\n",
       " 'colsample_bynode': 1,\n",
       " 'colsample_bytree': 1,\n",
       " 'gamma': 0,\n",
       " 'learning_rate': 0.1,\n",
       " 'max_delta_step': 0,\n",
       " 'max_depth': 3,\n",
       " 'min_child_weight': 1,\n",
       " 'missing': None,\n",
       " 'n_estimators': 100,\n",
       " 'n_jobs': 1,\n",
       " 'nthread': None,\n",
       " 'objective': 'binary:logistic',\n",
       " 'random_state': 0,\n",
       " 'reg_alpha': 0,\n",
       " 'reg_lambda': 1,\n",
       " 'scale_pos_weight': 1,\n",
       " 'seed': None,\n",
       " 'silent': None,\n",
       " 'subsample': 1,\n",
       " 'verbosity': 1}"
      ]
     },
     "execution_count": 46,
     "metadata": {
      "tags": []
     },
     "output_type": "execute_result"
    }
   ],
   "source": [
    "# List of params\n",
    "xg.get_params()"
   ]
  },
  {
   "cell_type": "code",
   "execution_count": null,
   "metadata": {
    "id": "IbeXk4Kd8mPh"
   },
   "outputs": [],
   "source": [
    "# Setting up params\n",
    "xg_params = {\n",
    "    'learning_rate' : [0.001, 0.01, 0.1, 1, 5, 10],\n",
    "    'max_depth' : [1, 2, 3, 4],\n",
    "    'n_estimators' : [200, 250, 300]\n",
    "}"
   ]
  },
  {
   "cell_type": "code",
   "execution_count": null,
   "metadata": {
    "colab": {
     "base_uri": "https://localhost:8080/"
    },
    "id": "7jhQ68sJ-Nk0",
    "outputId": "ca82769f-8451-478f-e92b-e1ad2695654a"
   },
   "outputs": [
    {
     "data": {
      "text/plain": [
       "GridSearchCV(cv=5, error_score=nan,\n",
       "             estimator=XGBClassifier(base_score=0.5, booster='gbtree',\n",
       "                                     colsample_bylevel=1, colsample_bynode=1,\n",
       "                                     colsample_bytree=1, gamma=0,\n",
       "                                     learning_rate=0.1, max_delta_step=0,\n",
       "                                     max_depth=3, min_child_weight=1,\n",
       "                                     missing=None, n_estimators=100, n_jobs=1,\n",
       "                                     nthread=None, objective='binary:logistic',\n",
       "                                     random_state=0, reg_alpha=0, reg_lambda=1,\n",
       "                                     scale_pos_weight=1, seed=None, silent=None,\n",
       "                                     subsample=1, verbosity=1),\n",
       "             iid='deprecated', n_jobs=None,\n",
       "             param_grid={'learning_rate': [0.001, 0.01, 0.1, 1, 5, 10],\n",
       "                         'max_depth': [1, 2, 3, 4],\n",
       "                         'n_estimators': [200, 250, 300]},\n",
       "             pre_dispatch='2*n_jobs', refit=True, return_train_score=False,\n",
       "             scoring=None, verbose=0)"
      ]
     },
     "execution_count": 59,
     "metadata": {
      "tags": []
     },
     "output_type": "execute_result"
    }
   ],
   "source": [
    "# GridSearch\n",
    "gs_xg = GridSearchCV(xg, param_grid=xg_params, cv=5, verbose=0)\n",
    "gs_xg.fit(X_train, y_train)"
   ]
  },
  {
   "cell_type": "code",
   "execution_count": null,
   "metadata": {
    "colab": {
     "base_uri": "https://localhost:8080/"
    },
    "id": "9HspTFLM-dGe",
    "outputId": "21f9a503-ae25-4a0b-8753-729e33bcf9af"
   },
   "outputs": [
    {
     "data": {
      "text/plain": [
       "{'learning_rate': 0.1, 'max_depth': 3, 'n_estimators': 200}"
      ]
     },
     "execution_count": 60,
     "metadata": {
      "tags": []
     },
     "output_type": "execute_result"
    }
   ],
   "source": [
    "# Best params\n",
    "gs_xg.best_params_"
   ]
  },
  {
   "cell_type": "code",
   "execution_count": null,
   "metadata": {
    "colab": {
     "base_uri": "https://localhost:8080/"
    },
    "id": "L2Vgvjk1CIzo",
    "outputId": "ab19ac83-4d97-486e-fef2-ca569000ac6c"
   },
   "outputs": [
    {
     "data": {
      "text/plain": [
       "0.6599999999999999"
      ]
     },
     "execution_count": 61,
     "metadata": {
      "tags": []
     },
     "output_type": "execute_result"
    }
   ],
   "source": [
    "# Best cross validated score\n",
    "gs_xg.best_score_"
   ]
  },
  {
   "cell_type": "code",
   "execution_count": null,
   "metadata": {
    "id": "0ADTHndGCMmM"
   },
   "outputs": [],
   "source": [
    "# Saving best estimator as a new variable\n",
    "\n",
    "best_xg_model = gs_xg.best_estimator_"
   ]
  },
  {
   "cell_type": "code",
   "execution_count": null,
   "metadata": {
    "colab": {
     "base_uri": "https://localhost:8080/"
    },
    "id": "2vvfK8HNCaa3",
    "outputId": "4180c950-d00d-4241-f9be-60a7583302c4"
   },
   "outputs": [
    {
     "name": "stdout",
     "output_type": "stream",
     "text": [
      "Training Accuracy: 1.0\n",
      "Testing Accuracy: 0.708\n"
     ]
    }
   ],
   "source": [
    "# Evaluation based on accuracy\n",
    "\n",
    "print(f'Training Accuracy: {round(best_xg_model.score(X_train, y_train),3)}')\n",
    "print(f'Testing Accuracy: {round(best_xg_model.score(X_test, y_test),3)}')"
   ]
  }
 ],
 "metadata": {
  "accelerator": "TPU",
  "colab": {
   "collapsed_sections": [],
   "name": "03. Modeling_Part_1.ipynb",
   "provenance": []
  },
  "kernelspec": {
   "display_name": "Python 3",
   "language": "python",
   "name": "python3"
  },
  "language_info": {
   "codemirror_mode": {
    "name": "ipython",
    "version": 3
   },
   "file_extension": ".py",
   "mimetype": "text/x-python",
   "name": "python",
   "nbconvert_exporter": "python",
   "pygments_lexer": "ipython3",
   "version": "3.8.2"
  }
 },
 "nbformat": 4,
 "nbformat_minor": 4
}
