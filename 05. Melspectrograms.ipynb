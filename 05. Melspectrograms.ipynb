{
  "nbformat": 4,
  "nbformat_minor": 0,
  "metadata": {
    "colab": {
      "name": "05. Melspectrograms.ipynb",
      "provenance": [],
      "collapsed_sections": []
    },
    "kernelspec": {
      "name": "python3",
      "display_name": "Python 3"
    },
    "accelerator": "TPU"
  },
  "cells": [
    {
      "cell_type": "markdown",
      "metadata": {
        "id": "t7zY6PEXz5ar"
      },
      "source": [
        "# Mel-Spectrograms\n",
        "\n",
        "In this notebook, I go through the process of creating mel-spectrograms from the dataset to train deep learning models. \n",
        "\n",
        "Note since melspectrograms are numpy arrays, I can't simply export as csv since numpy arrays are Python-specific objects and they automatically get recognized as string objects when exported as csv. In order to circumvent this issue, I need to save numpy arrays separately."
      ]
    },
    {
      "cell_type": "code",
      "metadata": {
        "id": "2-qqrNzGFCzn"
      },
      "source": [
        "# Imports\n",
        "\n",
        "import numpy as np\n",
        "import pandas as pd\n",
        "from glob import glob\n",
        "import os\n",
        "import librosa"
      ],
      "execution_count": null,
      "outputs": []
    },
    {
      "cell_type": "code",
      "metadata": {
        "colab": {
          "base_uri": "https://localhost:8080/"
        },
        "id": "0_aIaGARGCLL",
        "outputId": "e5ec042e-f881-4358-be9a-aba4c8f38022"
      },
      "source": [
        "# Attach google drive\n",
        "\n",
        "from google.colab import drive \n",
        "drive.mount('/content/gdrive')"
      ],
      "execution_count": null,
      "outputs": [
        {
          "output_type": "stream",
          "text": [
            "Mounted at /content/gdrive\n"
          ],
          "name": "stdout"
        }
      ]
    },
    {
      "cell_type": "code",
      "metadata": {
        "id": "wFRUPl3RQ0Ri"
      },
      "source": [
        "## Function that loops through each genre folder and then compiles all the audio file names\n",
        "\n",
        "def compile_audio_files(genre_list):\n",
        "    \n",
        "    compiled_list = []\n",
        "    \n",
        "    for genre in genre_list:\n",
        "        audio_files = os.listdir(f'/content/gdrive/MyDrive/Music-Genre-Project/genres_3s_split/{genre}')\n",
        "        compiled_list += audio_files\n",
        "        \n",
        "    return compiled_list"
      ],
      "execution_count": null,
      "outputs": []
    },
    {
      "cell_type": "code",
      "metadata": {
        "colab": {
          "base_uri": "https://localhost:8080/"
        },
        "id": "mjbU7RaCQ0Oe",
        "outputId": "97eff631-d7df-462c-9ece-970aba6371ac"
      },
      "source": [
        "# Loop through audio files in each genre and add the audio file name to the list\n",
        "\n",
        "genres = ['blues', 'classical', 'country', 'disco', 'hiphop', 'jazz', 'metal', 'pop', 'reggae', 'rock']\n",
        "\n",
        "final_list = compile_audio_files(genres)\n",
        "\n",
        "new_final_list = []\n",
        "\n",
        "for file in final_list:\n",
        "  variable = file.split('.')[0]\n",
        "  new_final_list.append(f'/content/gdrive/MyDrive/Music-Genre-Project/genres_3s_split/{variable}/{file}')\n",
        "\n",
        "new_final_list[:20] # Final list of music audio files directory"
      ],
      "execution_count": null,
      "outputs": [
        {
          "output_type": "execute_result",
          "data": {
            "text/plain": [
              "['/content/gdrive/MyDrive/Music-Genre-Project/genres_3s_split/blues/blues.00096.wav_chunk9.wav',\n",
              " '/content/gdrive/MyDrive/Music-Genre-Project/genres_3s_split/blues/blues.00097.wav_chunk0.wav',\n",
              " '/content/gdrive/MyDrive/Music-Genre-Project/genres_3s_split/blues/blues.00033.wav_chunk9.wav',\n",
              " '/content/gdrive/MyDrive/Music-Genre-Project/genres_3s_split/blues/blues.00055.wav_chunk8.wav',\n",
              " '/content/gdrive/MyDrive/Music-Genre-Project/genres_3s_split/blues/blues.00052.wav_chunk2.wav',\n",
              " '/content/gdrive/MyDrive/Music-Genre-Project/genres_3s_split/blues/blues.00091.wav_chunk7.wav',\n",
              " '/content/gdrive/MyDrive/Music-Genre-Project/genres_3s_split/blues/blues.00043.wav_chunk6.wav',\n",
              " '/content/gdrive/MyDrive/Music-Genre-Project/genres_3s_split/blues/blues.00019.wav_chunk8.wav',\n",
              " '/content/gdrive/MyDrive/Music-Genre-Project/genres_3s_split/blues/blues.00094.wav_chunk6.wav',\n",
              " '/content/gdrive/MyDrive/Music-Genre-Project/genres_3s_split/blues/blues.00087.wav_chunk8.wav',\n",
              " '/content/gdrive/MyDrive/Music-Genre-Project/genres_3s_split/blues/blues.00044.wav_chunk2.wav',\n",
              " '/content/gdrive/MyDrive/Music-Genre-Project/genres_3s_split/blues/blues.00019.wav_chunk4.wav',\n",
              " '/content/gdrive/MyDrive/Music-Genre-Project/genres_3s_split/blues/blues.00080.wav_chunk4.wav',\n",
              " '/content/gdrive/MyDrive/Music-Genre-Project/genres_3s_split/blues/blues.00095.wav_chunk6.wav',\n",
              " '/content/gdrive/MyDrive/Music-Genre-Project/genres_3s_split/blues/blues.00055.wav_chunk9.wav',\n",
              " '/content/gdrive/MyDrive/Music-Genre-Project/genres_3s_split/blues/blues.00084.wav_chunk0.wav',\n",
              " '/content/gdrive/MyDrive/Music-Genre-Project/genres_3s_split/blues/blues.00068.wav_chunk6.wav',\n",
              " '/content/gdrive/MyDrive/Music-Genre-Project/genres_3s_split/blues/blues.00030.wav_chunk5.wav',\n",
              " '/content/gdrive/MyDrive/Music-Genre-Project/genres_3s_split/blues/blues.00018.wav_chunk7.wav',\n",
              " '/content/gdrive/MyDrive/Music-Genre-Project/genres_3s_split/blues/blues.00033.wav_chunk5.wav']"
            ]
          },
          "metadata": {
            "tags": []
          },
          "execution_count": 5
        }
      ]
    },
    {
      "cell_type": "code",
      "metadata": {
        "colab": {
          "base_uri": "https://localhost:8080/"
        },
        "id": "DXLd4N_wzYAQ",
        "outputId": "8a958385-9da0-4e70-c841-7fdc38cfae92"
      },
      "source": [
        "# Final check\n",
        "len(new_final_list)"
      ],
      "execution_count": null,
      "outputs": [
        {
          "output_type": "execute_result",
          "data": {
            "text/plain": [
              "10000"
            ]
          },
          "metadata": {
            "tags": []
          },
          "execution_count": 6
        }
      ]
    },
    {
      "cell_type": "code",
      "metadata": {
        "id": "pRMgARwFmony"
      },
      "source": [
        "# Function that extracts melspectrograms and saves as a dataframe\n",
        "\n",
        "def extract_melspec(files):\n",
        "    \n",
        "    melspec = []\n",
        "    file_name = []\n",
        "    \n",
        "    n_fft = 2048 # Number of Short-Time Fourier Transform windows\n",
        "    hop_length = 512 # How much to shift after each Fourier transform\n",
        "    n_mels = 128 # Number of separation of frequencies\n",
        "    \n",
        "    for file in files:\n",
        "        y, sr = librosa.load(file)\n",
        "        y = librosa.feature.melspectrogram(y, sr, n_fft=n_fft, hop_length=hop_length, n_mels=n_mels)\n",
        "        y = librosa.power_to_db(y, ref=np.max)\n",
        "        \n",
        "        if y.shape[1] == 130: # To avoid reshaping issue, we have to drop a few instances where the shape is slightly off\n",
        "            melspec.append(y)\n",
        "            file_name.append(file)\n",
        "        else:\n",
        "            pass\n",
        "        \n",
        "    dict_melspec = {\n",
        "        'melspec' : melspec,\n",
        "        'file_name' : file_name\n",
        "    }\n",
        "\n",
        "    return pd.DataFrame(dict_melspec)"
      ],
      "execution_count": null,
      "outputs": []
    },
    {
      "cell_type": "code",
      "metadata": {
        "id": "pnmxliEixu51"
      },
      "source": [
        "# Save the dataframe as a variable\n",
        "df = extract_melspec(new_final_list)"
      ],
      "execution_count": null,
      "outputs": []
    },
    {
      "cell_type": "code",
      "metadata": {
        "id": "hQxcPPB4xu0f"
      },
      "source": [
        "# Function that labels genres\n",
        "\n",
        "def genre_name(file):\n",
        "    if 'blues' in file:\n",
        "        return 'blues'\n",
        "    elif 'classical' in file:\n",
        "        return 'classical'\n",
        "    elif 'country' in file:\n",
        "        return 'country'\n",
        "    elif 'disco' in file:\n",
        "        return 'disco'\n",
        "    elif 'hiphop' in file:\n",
        "        return 'hiphop'\n",
        "    elif 'jazz' in file:\n",
        "        return 'jazz'\n",
        "    elif 'metal' in file:\n",
        "        return 'metal'\n",
        "    elif 'pop' in file:\n",
        "        return 'pop'\n",
        "    elif 'reggae' in file:\n",
        "        return 'reggae'\n",
        "    elif 'rock' in file:\n",
        "        return 'rock'"
      ],
      "execution_count": null,
      "outputs": []
    },
    {
      "cell_type": "code",
      "metadata": {
        "id": "ABhbqFcfxuuF"
      },
      "source": [
        "# Assign genre to each row\n",
        "\n",
        "df['genre'] = df['file_name'].apply(genre_name)"
      ],
      "execution_count": null,
      "outputs": []
    },
    {
      "cell_type": "code",
      "metadata": {
        "id": "H7nRf7uwxuk6"
      },
      "source": [
        "# Dictionary that categorizes genres in numbers.\n",
        "# Not ordinal values. Simply for classification purposes.\n",
        "\n",
        "genre_num_dict = {\n",
        "    'blues' : 0,\n",
        "    'classical' : 1,\n",
        "    'country' : 2,\n",
        "    'disco' : 3,\n",
        "    'hiphop' : 4,\n",
        "    'jazz' : 5,\n",
        "    'metal' : 6,\n",
        "    'pop' : 7,\n",
        "    'reggae' : 8,\n",
        "    'rock' : 9\n",
        "}"
      ],
      "execution_count": null,
      "outputs": []
    },
    {
      "cell_type": "code",
      "metadata": {
        "id": "xrApLd8NPOoa"
      },
      "source": [
        "# Assign numbers to genres (no specific order, only for classification purpose)\n",
        "\n",
        "df['genre_num'] = df['genre'].map(genre_num_dict)"
      ],
      "execution_count": null,
      "outputs": []
    },
    {
      "cell_type": "code",
      "metadata": {
        "colab": {
          "base_uri": "https://localhost:8080/",
          "height": 191
        },
        "id": "fCgNWUTz6qAo",
        "outputId": "6284cebd-462d-42b2-9344-5cf0e84452d1"
      },
      "source": [
        "# Check\n",
        "\n",
        "df.head()"
      ],
      "execution_count": null,
      "outputs": [
        {
          "output_type": "execute_result",
          "data": {
            "text/html": [
              "<div>\n",
              "<style scoped>\n",
              "    .dataframe tbody tr th:only-of-type {\n",
              "        vertical-align: middle;\n",
              "    }\n",
              "\n",
              "    .dataframe tbody tr th {\n",
              "        vertical-align: top;\n",
              "    }\n",
              "\n",
              "    .dataframe thead th {\n",
              "        text-align: right;\n",
              "    }\n",
              "</style>\n",
              "<table border=\"1\" class=\"dataframe\">\n",
              "  <thead>\n",
              "    <tr style=\"text-align: right;\">\n",
              "      <th></th>\n",
              "      <th>melspec</th>\n",
              "      <th>file_name</th>\n",
              "      <th>genre</th>\n",
              "      <th>genre_num</th>\n",
              "    </tr>\n",
              "  </thead>\n",
              "  <tbody>\n",
              "    <tr>\n",
              "      <th>0</th>\n",
              "      <td>[[-21.381990674164236, -26.59064856269263, -32...</td>\n",
              "      <td>/content/gdrive/MyDrive/Music-Genre-Project/ge...</td>\n",
              "      <td>blues</td>\n",
              "      <td>0</td>\n",
              "    </tr>\n",
              "    <tr>\n",
              "      <th>1</th>\n",
              "      <td>[[-24.882997729703842, -29.4209843264114, -37....</td>\n",
              "      <td>/content/gdrive/MyDrive/Music-Genre-Project/ge...</td>\n",
              "      <td>blues</td>\n",
              "      <td>0</td>\n",
              "    </tr>\n",
              "    <tr>\n",
              "      <th>2</th>\n",
              "      <td>[[-36.865174054353496, -42.8580202940706, -73....</td>\n",
              "      <td>/content/gdrive/MyDrive/Music-Genre-Project/ge...</td>\n",
              "      <td>blues</td>\n",
              "      <td>0</td>\n",
              "    </tr>\n",
              "    <tr>\n",
              "      <th>3</th>\n",
              "      <td>[[-23.014353611424642, -24.69549568481796, -26...</td>\n",
              "      <td>/content/gdrive/MyDrive/Music-Genre-Project/ge...</td>\n",
              "      <td>blues</td>\n",
              "      <td>0</td>\n",
              "    </tr>\n",
              "    <tr>\n",
              "      <th>4</th>\n",
              "      <td>[[-26.309496111579065, -29.813054506919347, -2...</td>\n",
              "      <td>/content/gdrive/MyDrive/Music-Genre-Project/ge...</td>\n",
              "      <td>blues</td>\n",
              "      <td>0</td>\n",
              "    </tr>\n",
              "  </tbody>\n",
              "</table>\n",
              "</div>"
            ],
            "text/plain": [
              "                                             melspec  ... genre_num\n",
              "0  [[-21.381990674164236, -26.59064856269263, -32...  ...         0\n",
              "1  [[-24.882997729703842, -29.4209843264114, -37....  ...         0\n",
              "2  [[-36.865174054353496, -42.8580202940706, -73....  ...         0\n",
              "3  [[-23.014353611424642, -24.69549568481796, -26...  ...         0\n",
              "4  [[-26.309496111579065, -29.813054506919347, -2...  ...         0\n",
              "\n",
              "[5 rows x 4 columns]"
            ]
          },
          "metadata": {
            "tags": []
          },
          "execution_count": 13
        }
      ]
    },
    {
      "cell_type": "code",
      "metadata": {
        "id": "etxKPbPuwDU3"
      },
      "source": [
        "# Save the melspec numpy array for later use\n",
        "np.save('data.npy', np.array(df['melspec']), allow_pickle=True)"
      ],
      "execution_count": null,
      "outputs": []
    },
    {
      "cell_type": "code",
      "metadata": {
        "id": "JUXIzqtjwUGT"
      },
      "source": [
        "# Demonstration of how to load it for later use\n",
        "loaded_np = np.load('/content/gdrive/MyDrive/Music-Genre-Project/melspecs/data.npy', allow_pickle=True)"
      ],
      "execution_count": null,
      "outputs": []
    },
    {
      "cell_type": "code",
      "metadata": {
        "colab": {
          "base_uri": "https://localhost:8080/",
          "height": 191
        },
        "id": "U0R5_CzVxktF",
        "outputId": "eff5c7ed-8f8d-4653-9b74-4d516a63d024"
      },
      "source": [
        "df_export = df.drop(columns=['melspec'])\n",
        "df_export.head()"
      ],
      "execution_count": null,
      "outputs": [
        {
          "output_type": "execute_result",
          "data": {
            "text/html": [
              "<div>\n",
              "<style scoped>\n",
              "    .dataframe tbody tr th:only-of-type {\n",
              "        vertical-align: middle;\n",
              "    }\n",
              "\n",
              "    .dataframe tbody tr th {\n",
              "        vertical-align: top;\n",
              "    }\n",
              "\n",
              "    .dataframe thead th {\n",
              "        text-align: right;\n",
              "    }\n",
              "</style>\n",
              "<table border=\"1\" class=\"dataframe\">\n",
              "  <thead>\n",
              "    <tr style=\"text-align: right;\">\n",
              "      <th></th>\n",
              "      <th>file_name</th>\n",
              "      <th>genre</th>\n",
              "      <th>genre_num</th>\n",
              "    </tr>\n",
              "  </thead>\n",
              "  <tbody>\n",
              "    <tr>\n",
              "      <th>0</th>\n",
              "      <td>/content/gdrive/MyDrive/Music-Genre-Project/ge...</td>\n",
              "      <td>blues</td>\n",
              "      <td>0</td>\n",
              "    </tr>\n",
              "    <tr>\n",
              "      <th>1</th>\n",
              "      <td>/content/gdrive/MyDrive/Music-Genre-Project/ge...</td>\n",
              "      <td>blues</td>\n",
              "      <td>0</td>\n",
              "    </tr>\n",
              "    <tr>\n",
              "      <th>2</th>\n",
              "      <td>/content/gdrive/MyDrive/Music-Genre-Project/ge...</td>\n",
              "      <td>blues</td>\n",
              "      <td>0</td>\n",
              "    </tr>\n",
              "    <tr>\n",
              "      <th>3</th>\n",
              "      <td>/content/gdrive/MyDrive/Music-Genre-Project/ge...</td>\n",
              "      <td>blues</td>\n",
              "      <td>0</td>\n",
              "    </tr>\n",
              "    <tr>\n",
              "      <th>4</th>\n",
              "      <td>/content/gdrive/MyDrive/Music-Genre-Project/ge...</td>\n",
              "      <td>blues</td>\n",
              "      <td>0</td>\n",
              "    </tr>\n",
              "  </tbody>\n",
              "</table>\n",
              "</div>"
            ],
            "text/plain": [
              "                                           file_name  genre  genre_num\n",
              "0  /content/gdrive/MyDrive/Music-Genre-Project/ge...  blues          0\n",
              "1  /content/gdrive/MyDrive/Music-Genre-Project/ge...  blues          0\n",
              "2  /content/gdrive/MyDrive/Music-Genre-Project/ge...  blues          0\n",
              "3  /content/gdrive/MyDrive/Music-Genre-Project/ge...  blues          0\n",
              "4  /content/gdrive/MyDrive/Music-Genre-Project/ge...  blues          0"
            ]
          },
          "metadata": {
            "tags": []
          },
          "execution_count": 34
        }
      ]
    },
    {
      "cell_type": "code",
      "metadata": {
        "id": "OF5NetRWx-oZ"
      },
      "source": [
        "df_export.to_csv('/content/gdrive/MyDrive/Music-Genre-Project/melspecs/df.csv', index=False)"
      ],
      "execution_count": null,
      "outputs": []
    },
    {
      "cell_type": "code",
      "metadata": {
        "id": "AHYRyxY2yx3N"
      },
      "source": [
        "# Function to save numpy array and rest of other columns seperately and then brings them together for later use\n",
        "# https://stackoverflow.com/questions/28439701/how-to-save-and-load-numpy-array-data-properly\n",
        "\n",
        "def create_df(np_path, df_path):\n",
        "\n",
        "  loaded_np = np.load(np_path, allow_pickle=True) # Load numpy arrays\n",
        "  df_exported = pd.read_csv(df_path) # Read in rest of dataframe\n",
        "  df_exported['melspecs'] = loaded_np # Merge\n",
        "\n",
        "  return df_exported"
      ],
      "execution_count": null,
      "outputs": []
    }
  ]
}